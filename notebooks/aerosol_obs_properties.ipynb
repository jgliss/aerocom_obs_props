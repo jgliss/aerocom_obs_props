{
 "cells": [
  {
   "cell_type": "markdown",
   "metadata": {},
   "source": [
    "# AeroCom multi-model intercomparison of aerosol optical properties with observations"
   ]
  },
  {
   "cell_type": "code",
   "execution_count": 1,
   "metadata": {},
   "outputs": [
    {
     "name": "stderr",
     "output_type": "stream",
     "text": [
      "2018-08-07 15:55:13,665:INFO:\n",
      "Reading aliases ini file: /home/jonasg/github/pyaerocom/pyaerocom/data/aliases.ini\n"
     ]
    }
   ],
   "source": [
    "import os\n",
    "import pyaerocom as pya\n",
    "pya.change_verbosity('warning')"
   ]
  },
  {
   "cell_type": "markdown",
   "metadata": {},
   "source": [
    "## Define variables and years of interest"
   ]
  },
  {
   "cell_type": "code",
   "execution_count": 2,
   "metadata": {},
   "outputs": [],
   "source": [
    "YEARS = [2010]\n",
    "# Dictionary containing all variables to be read\n",
    " \n",
    "VAR_INFO = dict(od550aer    = 'AOD at 550 nm',\n",
    "                od550gt1aer = 'Coarse mode AOD at 550nm',\n",
    "                od550lt1aer = 'Fine mode AOD at 550nm',\n",
    "                abs550aer   = 'Absorption AOD at 550nm')\n",
    "VARS = [var for var in VAR_INFO.keys()] "
   ]
  },
  {
   "cell_type": "markdown",
   "metadata": {},
   "source": [
    "### Obs networks\n",
    "List of considered observation networks"
   ]
  },
  {
   "cell_type": "code",
   "execution_count": 3,
   "metadata": {},
   "outputs": [
    {
     "name": "stdout",
     "output_type": "stream",
     "text": [
      "Supported networks: ['AeronetInvV3Lev2.daily', 'AeronetInvV3Lev1.5.daily', 'AeronetInvV2Lev2.daily', 'AeronetInvV2Lev1.5.daily', 'AeronetSDAV2Lev2.daily', 'AeronetSDAV3Lev1.5.daily', 'AeronetSDAV3Lev2.daily', 'AeronetSunV2Lev2.daily', 'AeronetSunV2Lev2.AP', 'AeronetSunV3Lev1.5.daily', 'AeronetSunV3Lev1.5.AP', 'AeronetSunV3Lev2.daily', 'AeronetSunV3Lev2.AP', 'EARLINET', 'EBASMC']\n"
     ]
    }
   ],
   "source": [
    "obs_reader = pya.io.ReadUngridded()\n",
    "print('Supported networks: {}'.format(obs_reader.supported_datasets))"
   ]
  },
  {
   "cell_type": "code",
   "execution_count": 4,
   "metadata": {},
   "outputs": [],
   "source": [
    "from pyaerocom import const\n",
    "# use only level 2 Aeronet for now and daily data\n",
    "obs_networks =['AeronetSDAV2Lev2.daily', # od550aer, od550lt1aer, od550gt1aer\n",
    "               'AeronetSDAV3Lev2.daily', # od550aer, od550lt1aer, od550gt1aer\n",
    "               'AeronetSunV2Lev2.daily', # od550aer\n",
    "               'AeronetSunV3Lev2.daily',\n",
    "               ] # od550aer\n",
    "               #'EBASMC'] # ec550aer, ..."
   ]
  },
  {
   "cell_type": "markdown",
   "metadata": {},
   "source": [
    "### Load obs data"
   ]
  },
  {
   "cell_type": "code",
   "execution_count": 7,
   "metadata": {},
   "outputs": [
    {
     "name": "stdout",
     "output_type": "stream",
     "text": [
      "loading AeronetSDAV2Lev2.daily...\n",
      "Successfully loaded AeronetSDAV2Lev2.daily (variables: ['od550aer', 'od550gt1aer', 'od550lt1aer'])\n",
      "loading AeronetSDAV3Lev2.daily...\n",
      "Successfully loaded AeronetSDAV3Lev2.daily (variables: ['od550aer', 'od550gt1aer', 'od550lt1aer'])\n",
      "loading AeronetSunV2Lev2.daily...\n",
      "Successfully loaded AeronetSunV2Lev2.daily (variables: ['od550aer'])\n",
      "loading AeronetSunV3Lev2.daily...\n",
      "Successfully loaded AeronetSunV3Lev2.daily (variables: ['od550aer'])\n"
     ]
    }
   ],
   "source": [
    "obs_data = {}\n",
    "for network in obs_networks:\n",
    "    reader = pya.io.ReadUngridded(network)\n",
    "    read_vars = []\n",
    "    for var_provided in reader.dataset_provides_variables(network):\n",
    "        if var_provided in VARS:\n",
    "            read_vars.append(var_provided)\n",
    "    if len(read_vars) != 0:\n",
    "        print('loading {}...'.format(network))\n",
    "        obs_data[network] = reader.read(vars_to_retrieve=read_vars)\n",
    "        print('Successfully loaded {} (variables: {})'.format(network, read_vars))"
   ]
  },
  {
   "cell_type": "code",
   "execution_count": 8,
   "metadata": {},
   "outputs": [
    {
     "data": {
      "text/plain": [
       "{'AeronetSDAV2Lev2.daily': <pyaerocom.ungriddeddata.UngriddedData at 0x7f7d9467fb70>,\n",
       " 'AeronetSDAV3Lev2.daily': <pyaerocom.ungriddeddata.UngriddedData at 0x7f7d9467ffd0>,\n",
       " 'AeronetSunV2Lev2.daily': <pyaerocom.ungriddeddata.UngriddedData at 0x7f7d9419cd30>,\n",
       " 'AeronetSunV3Lev2.daily': <pyaerocom.ungriddeddata.UngriddedData at 0x7f7d51960080>}"
      ]
     },
     "execution_count": 8,
     "metadata": {},
     "output_type": "execute_result"
    }
   ],
   "source": [
    "obs_data"
   ]
  },
  {
   "cell_type": "markdown",
   "metadata": {},
   "source": [
    "## Model-list\n",
    "\n",
    "The following list comprises search strings for Aerocom models:\n",
    "\n",
    "**NOTE**: Check and update from "
   ]
  },
  {
   "cell_type": "code",
   "execution_count": 9,
   "metadata": {},
   "outputs": [
    {
     "name": "stdout",
     "output_type": "stream",
     "text": [
      "1 NorESM: AlfKirkevag MetNo\n",
      "\n",
      "  CAM6-Oslo_NF2kNucl_7jun2018AK\n",
      "\n",
      "attention\n",
      "\n",
      "is on /lustre/storeA/project/aerocom/aerocom2/NorESM_SVN_TEST\n",
      "\n",
      "2 OsloCTM3 : Gunnar Myhre - Marianne Lund CICERO\n",
      "\n",
      "OsloCTM2_INSITU  (includes extinction and absorption coefficients)\n",
      "\n",
      "is probably outdated...\n",
      "\n",
      "3 TM5-AP3: Twan van Noye KNMI\n",
      "\n",
      "TM5_AP3-CTRL2016\n",
      "\n",
      "and\n",
      "\n",
      "TM5_AP3-INSITU (daily files are missing, but Jan should produce them)\n",
      "\n"
     ]
    }
   ],
   "source": [
    "model_info_file = '/lustre/storeA/project/aerocom/aerocom-users-database/AEROCOM-PHASE-III/reference-list'\n",
    "\n",
    "if os.path.exists(model_info_file):\n",
    "    with open(model_info_file) as f:\n",
    "        for line in f:\n",
    "            if line.strip():\n",
    "                print(line)"
   ]
  },
  {
   "cell_type": "code",
   "execution_count": 10,
   "metadata": {},
   "outputs": [],
   "source": [
    "MODEL_SEARCH_KEYS = ['ECMWF_OSUITE',\n",
    "                     'CAM6-Oslo_NF2kNucl_7jun2018AK',\n",
    "                     'OsloCTM2_INSITU',\n",
    "                     'TM5_AP3-CTRL2016',\n",
    "                     'TM5_AP3-INSITU']"
   ]
  },
  {
   "cell_type": "markdown",
   "metadata": {},
   "source": [
    "Search matches:"
   ]
  },
  {
   "cell_type": "code",
   "execution_count": null,
   "metadata": {},
   "outputs": [],
   "source": [
    "from pyaerocom.io.aerocom_browser import AerocomBrowser\n",
    "ALL_MODELS = []\n",
    "\n",
    "browser = AerocomBrowser()\n",
    "\n",
    "for search_key in MODEL_SEARCH_KEYS:\n",
    "    try:\n",
    "        ALL_MODELS.extend(browser.find_matches(search_key))\n",
    "    except Exception as e:\n",
    "        print(repr(e))\n",
    "ALL_MODELS"
   ]
  },
  {
   "cell_type": "markdown",
   "metadata": {},
   "source": [
    "### Check variables and years available in the listed models \n",
    "\n",
    "Keep only the models that match either of the specified years and either of the specified variables."
   ]
  },
  {
   "cell_type": "code",
   "execution_count": null,
   "metadata": {},
   "outputs": [],
   "source": [
    "#dictionary that will be filled with reading classes for each model\n",
    "readers = {}\n",
    "for model_id in ALL_MODELS:\n",
    "    print('\\n\\nReading model {}'.format(model_id))\n",
    "    reader = pya.io.ReadGridded(model_id)\n",
    "    if any([year in reader.years for year in YEARS]): \n",
    "        ok = True\n",
    "        if VARS is not None:\n",
    "            if not any([var in reader.vars for var in VARS]):\n",
    "                print('Ignoring model {}: no match with any of the '\n",
    "                      'defined variables (contains:\\n[])'.format(model_id, reader.vars))\n",
    "                ok = False\n",
    "    else:\n",
    "        print('Ignoring model {}: no match with defined years (contains:\\n{})'.format(model_id, reader.years))\n",
    "        ok = False\n",
    "    if ok:\n",
    "        readers[model_id] = reader"
   ]
  },
  {
   "cell_type": "code",
   "execution_count": null,
   "metadata": {},
   "outputs": [],
   "source": [
    "print('Remaining models:')\n",
    "for k, v in readers.items():\n",
    "    print('{}: {}'.format(k, v))"
   ]
  },
  {
   "cell_type": "code",
   "execution_count": null,
   "metadata": {},
   "outputs": [],
   "source": [
    "ALL_VARS = []\n",
    "for reader in readers.values():\n",
    "    if len(reader.files) == 0:\n",
    "        raise Exception\n",
    "    ALL_VARS.extend(reader.vars)\n",
    "\n",
    "ALL_VARS = list(dict.fromkeys(ALL_VARS))    \n",
    "ALL_VARS"
   ]
  },
  {
   "cell_type": "code",
   "execution_count": null,
   "metadata": {},
   "outputs": [],
   "source": [
    "readers.keys()"
   ]
  },
  {
   "cell_type": "code",
   "execution_count": null,
   "metadata": {},
   "outputs": [],
   "source": [
    "reader = readers['CAM6-Oslo_NF2kNucl_7jun2018AK']\n",
    "print(reader)"
   ]
  },
  {
   "cell_type": "code",
   "execution_count": null,
   "metadata": {},
   "outputs": [],
   "source": []
  }
 ],
 "metadata": {
  "kernelspec": {
   "display_name": "Python 3",
   "language": "python",
   "name": "python3"
  },
  "language_info": {
   "codemirror_mode": {
    "name": "ipython",
    "version": 3
   },
   "file_extension": ".py",
   "mimetype": "text/x-python",
   "name": "python",
   "nbconvert_exporter": "python",
   "pygments_lexer": "ipython3",
   "version": "3.6.6"
  }
 },
 "nbformat": 4,
 "nbformat_minor": 2
}
