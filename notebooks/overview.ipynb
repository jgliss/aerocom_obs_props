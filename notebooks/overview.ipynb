{
 "cells": [
  {
   "cell_type": "markdown",
   "metadata": {},
   "source": [
    "# Overview of available variables and analysis results\n",
    "\n",
    "Data analysis is supposed to be done in script `EVAL_SCRIPT.py` which can be found in the parent directory. This script is supposed to create output files and plots that may be used here to summarise the results."
   ]
  },
  {
   "cell_type": "code",
   "execution_count": 9,
   "metadata": {},
   "outputs": [],
   "source": [
    "import os\n",
    "import pyaerocom as pya\n",
    "pya.change_verbosity('critical')"
   ]
  },
  {
   "cell_type": "markdown",
   "metadata": {},
   "source": [
    "Check for updates in file containing models."
   ]
  },
  {
   "cell_type": "code",
   "execution_count": 10,
   "metadata": {},
   "outputs": [
    {
     "name": "stdout",
     "output_type": "stream",
     "text": [
      "1 NorESM: AlfKirkevag MetNo\n",
      "\n",
      "  CAM6-Oslo_NF2kNucl_7jun2018AK\n",
      "\n",
      "attention\n",
      "\n",
      "is on /lustre/storeA/project/aerocom/aerocom2/NorESM_SVN_TEST\n",
      "\n",
      "2 OsloCTM3 : Gunnar Myhre - Marianne Lund CICERO\n",
      "\n",
      "OsloCTM2_INSITU  (includes extinction and absorption coefficients)\n",
      "\n",
      "is probably outdated...\n",
      "\n",
      "3 TM5-AP3: Twan van Noye KNMI\n",
      "\n",
      "TM5_AP3-CTRL2016\n",
      "\n",
      "and\n",
      "\n",
      "TM5_AP3-INSITU (daily files are missing, but Jan should produce them)\n",
      "\n"
     ]
    },
    {
     "data": {
      "text/plain": [
       "'AeronetInvV2Lev2.daily'"
      ]
     },
     "execution_count": 10,
     "metadata": {},
     "output_type": "execute_result"
    }
   ],
   "source": [
    "model_info_file = '/lustre/storeA/project/aerocom/aerocom-users-database/AEROCOM-PHASE-III/reference-list'\n",
    "\n",
    "if os.path.exists(model_info_file):\n",
    "    with open(model_info_file) as f:\n",
    "        for line in f:\n",
    "            if line.strip():\n",
    "                print(line)\n",
    "pya.const.AERONET_INV_V2L2_DAILY_NAME"
   ]
  },
  {
   "cell_type": "markdown",
   "metadata": {},
   "source": [
    "### Define models, obsnetworks, years, and variables"
   ]
  },
  {
   "cell_type": "code",
   "execution_count": 13,
   "metadata": {},
   "outputs": [],
   "source": [
    "YEARS = [2010, 2008, 9999]\n",
    "\n",
    "# List of models considered\n",
    "MODEL_LIST = ['CAM6-Oslo_NF2kNucl_7jun2018AK',\n",
    "              'OsloCTM2_INSITU',\n",
    "              'TM5_AP3-CTRL2016',\n",
    "              'TM5_AP3-INSITU']\n",
    "\n",
    "# List of ungridded obsnetworks considered (so far)\n",
    "UNGRIDDED_OBS_NETWORKS = {'AeronetSunV2Lev2.daily' : 'od550aer',\n",
    "                          'AeronetSunV3Lev2.daily' : 'od550aer',\n",
    "                          'AeronetSDAV2Lev2.daily' : ['od550lt1aer', \n",
    "                                                      'od550gt1aer'],\n",
    "                          'AeronetSDAV3Lev2.daily' : ['od550lt1aer', \n",
    "                                                      'od550gt1aer'],\n",
    "                          'AeronetInvV2Lev2.daily' : 'abs550aer',\n",
    "                          'AeronetInvV3Lev2.daily' : 'abs550aer'\n",
    "                          }\n",
    "\n",
    "# Get unique variables\n",
    "VARS = []\n",
    "for k, v in UNGRIDDED_OBS_NETWORKS.items():\n",
    "    if isinstance(v, str):\n",
    "        VARS.append(v)\n",
    "    else:\n",
    "        VARS.extend(v)\n",
    "VARS = list(dict.fromkeys(VARS))"
   ]
  },
  {
   "cell_type": "markdown",
   "metadata": {},
   "source": [
    "### Import model results"
   ]
  },
  {
   "cell_type": "code",
   "execution_count": 14,
   "metadata": {},
   "outputs": [
    {
     "data": {
      "text/plain": [
       "OrderedDict([('CAM6-Oslo_NF2kNucl_7jun2018AK',\n",
       "              <pyaerocom.io.readgridded.ReadGridded at 0x7f17b4c57dd8>),\n",
       "             ('OsloCTM2_INSITU',\n",
       "              <pyaerocom.io.readgridded.ReadGridded at 0x7f17b4c40748>),\n",
       "             ('TM5_AP3-CTRL2016',\n",
       "              <pyaerocom.io.readgridded.ReadGridded at 0x7f17b4c40390>),\n",
       "             ('TM5_AP3-INSITU',\n",
       "              <pyaerocom.io.readgridded.ReadGridded at 0x7f17b4c57b70>)])"
      ]
     },
     "execution_count": 14,
     "metadata": {},
     "output_type": "execute_result"
    }
   ],
   "source": [
    "read_models = pya.io.ReadGriddedMulti(MODEL_LIST)\n",
    "read_models.read_individual_years(VARS, YEARS)"
   ]
  },
  {
   "cell_type": "markdown",
   "metadata": {},
   "source": [
    "Print overview of what is in the models"
   ]
  },
  {
   "cell_type": "code",
   "execution_count": 16,
   "metadata": {},
   "outputs": [
    {
     "name": "stdout",
     "output_type": "stream",
     "text": [
      "\n",
      "Pyaerocom ReadGriddedMulti\n",
      "--------------------------\n",
      "Model IDs: ['CAM6-Oslo_NF2kNucl_7jun2018AK', 'OsloCTM2_INSITU', 'TM5_AP3-CTRL2016', 'TM5_AP3-INSITU']\n",
      "\n",
      "Loaded data:\n",
      "\n",
      "Pyaerocom ReadGridded\n",
      "---------------------\n",
      "Model ID: CAM6-Oslo_NF2kNucl_7jun2018AK\n",
      "Data directory: /lustre/storeA/project/aerocom/aerocom2/NorESM_SVN_TEST/CAM6-Oslo_NF2kNucl_7jun2018AK/renamed\n",
      "Available variables: ['abs440aer', 'abs500aer', 'abs5503Daer', 'abs550aer', 'abs550aercs', 'abs550bc', 'abs550dryaer', 'abs550dust', 'abs550oa', 'abs550so4', 'abs550ss', 'abs670aer', 'abs870aer', 'airmass', 'area', 'asy3Daer', 'bc5503Daer', 'cheaqpso4', 'chegpso4', 'chepso2', 'cl3D', 'clt', 'drybc', 'drydms', 'drydust', 'dryoa', 'dryso2', 'dryso4', 'dryss', 'ec5503Daer', 'ec550dryaer', 'emibc', 'emidms', 'emidust', 'emioa', 'emiso2', 'emiso4', 'emiss', 'hus', 'landf', 'loadbc', 'loaddms', 'loaddust', 'loadoa', 'loadso2', 'loadso4', 'loadss', 'mmraerh2o', 'mmrbc', 'mmrdu', 'mmroa', 'mmrso4', 'mmrss', 'od440aer', 'od440csaer', 'od550aer', 'od550aerh2o', 'od550bc', 'od550csaer', 'od550dust', 'od550gt1aer', 'od550lt1aer', 'od550lt1dust', 'od550oa', 'od550so4', 'od550ss', 'od670aer', 'od870aer', 'od870csaer', 'orog', 'precip', 'pressure', 'ps', 'rlds', 'rlus', 'rlut', 'rlutcs', 'rsds', 'rsdscs', 'rsdt', 'rsus', 'rsut', 'sconcbc', 'sconcdms', 'sconcdust', 'sconcoa', 'sconcso2', 'sconcso4', 'sconcss', 'temp', 'vmrdms', 'vmrso2', 'wetbc', 'wetdms', 'wetdust', 'wetoa', 'wetso2', 'wetso4', 'wetss']\n",
      "Available years: [9999]\n",
      "Available time resolutions ['monthly']\n",
      "\n",
      "Loaded GriddedData objects (individual years):\n",
      "\n",
      "Pyaerocom GriddedData\n",
      "---------------------\n",
      "Variable: abs550aer\n",
      "Temporal resolution: monthly\n",
      "Start / Stop: 9999-01-01T00:00:00.000000 - 9999-12-01T00:00:00.000000\n",
      "\n",
      "Pyaerocom GriddedData\n",
      "---------------------\n",
      "Variable: od550aer\n",
      "Temporal resolution: monthly\n",
      "Start / Stop: 9999-01-01T00:00:00.000000 - 9999-12-01T00:00:00.000000\n",
      "\n",
      "Pyaerocom GriddedData\n",
      "---------------------\n",
      "Variable: od550gt1aer\n",
      "Temporal resolution: monthly\n",
      "Start / Stop: 9999-01-01T00:00:00.000000 - 9999-12-01T00:00:00.000000\n",
      "\n",
      "Pyaerocom GriddedData\n",
      "---------------------\n",
      "Variable: od550lt1aer\n",
      "Temporal resolution: monthly\n",
      "Start / Stop: 9999-01-01T00:00:00.000000 - 9999-12-01T00:00:00.000000\n",
      "\n",
      "Pyaerocom ReadGridded\n",
      "---------------------\n",
      "Model ID: OsloCTM2_INSITU\n",
      "Data directory: /lustre/storeA/project/aerocom/aerocom-users-database/AEROCOM-PHASE-III/OsloCTM2_INSITU/renamed\n",
      "Available variables: ['abs440dryaer', 'abs550dryaer', 'abs870dryaer', 'asydryaer', 'ec440dryaer', 'ec550dryaer', 'ec870dryaer', 'od550aer', 'pres', 'sconcbc', 'sconcdust', 'sconcno3', 'sconcoa', 'sconcso4', 'sconcss']\n",
      "Available years: [2008]\n",
      "Available time resolutions ['daily']\n",
      "\n",
      "Loaded GriddedData objects (individual years):\n",
      "\n",
      "Pyaerocom GriddedData\n",
      "---------------------\n",
      "Variable: od550aer\n",
      "Temporal resolution: daily\n",
      "Start / Stop: 2008-01-01T00:00:00.000000 - 2008-12-30T00:00:00.000000\n",
      "\n",
      "Pyaerocom ReadGridded\n",
      "---------------------\n",
      "Model ID: TM5_AP3-CTRL2016\n",
      "Data directory: /lustre/storeA/project/aerocom/aerocom-users-database/AEROCOM-PHASE-III/TM5_AP3-CTRL2016/renamed\n",
      "Available variables: ['abs350aer', 'abs440aer', 'abs440dryaer', 'abs550aer', 'abs550dryaer', 'abs550drylt1aer', 'abs870aer', 'abs870dryaer', 'airmass', 'asyaer', 'asydryaer', 'deltaz3d', 'depbc', 'depdms', 'depdust', 'dephno3', 'depmsa', 'depn', 'depnh3', 'depnh4', 'depnhx', 'depno2', 'depno3', 'depnoy', 'depo3', 'depoa', 'deps', 'depso2', 'depso4', 'depss', 'dh', 'drybc', 'drydms', 'drydust', 'dryhno3', 'drynh3', 'dryno2', 'dryno3', 'drynoy', 'dryo3', 'dryoa', 'dryso2', 'dryso4', 'dryss', 'ec440dryaer', 'ec550aer', 'ec550dryaer', 'ec550drylt1aer', 'ec870dryaer', 'emibc', 'emico', 'emidms', 'emidust', 'emiisop', 'emin', 'eminh3', 'eminox', 'emioa', 'emis', 'emiso2', 'emiso4', 'emiss', 'emiterp', 'humidity3d', 'hus', 'loadbc', 'loaddust', 'loadno3', 'loadoa', 'loadso4', 'loadss', 'od350aer', 'od440aer', 'od550aer', 'od550aer3d', 'od550aerh2o', 'od550bc', 'od550dryaer', 'od550dust', 'od550lt1aer', 'od550lt1dust', 'od550lt1ss', 'od550no3', 'od550oa', 'od550so4', 'od550ss', 'od870aer', 'pr', 'sconcbc', 'sconcdust', 'sconcmsa', 'sconcnh4', 'sconcno3', 'sconcoa', 'sconcso4', 'sconcss', 'ta', 'temp', 'vmrch4', 'vmrco', 'vmrno', 'vmrno2', 'vmro3', 'vmroh', 'wetbc', 'wetdms', 'wetdust', 'wethno3', 'wetmsa', 'wetnh3', 'wetnh4', 'wetno3', 'wetnoy', 'wetoa', 'wetso2', 'wetso4', 'wetss']\n",
      "Available years: [2006, 2008, 2010]\n",
      "Available time resolutions ['3hourly', 'monthly']\n",
      "\n",
      "Loaded GriddedData objects (individual years):\n",
      "\n",
      "Pyaerocom GriddedData\n",
      "---------------------\n",
      "Variable: abs550aer\n",
      "Temporal resolution: 3hourly\n",
      "Start / Stop: 2008-01-01T00:00:00.000000 - 2008-12-31T21:00:00.000000\n",
      "\n",
      "Pyaerocom GriddedData\n",
      "---------------------\n",
      "Variable: abs550aer\n",
      "Temporal resolution: 3hourly\n",
      "Start / Stop: 2010-01-01T00:00:00.000000 - 2010-12-31T21:00:00.000000\n",
      "\n",
      "Pyaerocom GriddedData\n",
      "---------------------\n",
      "Variable: od550aer\n",
      "Temporal resolution: 3hourly\n",
      "Start / Stop: 2008-01-01T00:00:00.000000 - 2008-12-31T21:00:00.000000\n",
      "\n",
      "Pyaerocom GriddedData\n",
      "---------------------\n",
      "Variable: od550aer\n",
      "Temporal resolution: 3hourly\n",
      "Start / Stop: 2010-01-01T00:00:00.000000 - 2010-12-31T21:00:00.000000\n",
      "\n",
      "Pyaerocom GriddedData\n",
      "---------------------\n",
      "Variable: od550lt1aer\n",
      "Temporal resolution: 3hourly\n",
      "Start / Stop: 2008-01-01T00:00:00.000000 - 2008-12-31T21:00:00.000000\n",
      "\n",
      "Pyaerocom GriddedData\n",
      "---------------------\n",
      "Variable: od550lt1aer\n",
      "Temporal resolution: 3hourly\n",
      "Start / Stop: 2010-01-01T00:00:00.000000 - 2010-12-31T21:00:00.000000\n",
      "\n",
      "Pyaerocom ReadGridded\n",
      "---------------------\n",
      "Model ID: TM5_AP3-INSITU\n",
      "Data directory: /lustre/storeA/project/aerocom/aerocom-users-database/AEROCOM-PHASE-III/TM5_AP3-INSITU/renamed\n",
      "Available variables: ['abs350aer', 'abs440aer', 'abs440dryaer', 'abs550aer', 'abs550dryaer', 'abs550drylt1aer', 'abs870aer', 'abs870dryaer', 'airmass', 'asyaer', 'asydryaer', 'depbc', 'depdms', 'depdust', 'dephno3', 'depmsa', 'depn', 'depnh3', 'depnh4', 'depnhx', 'depno2', 'depno3', 'depnoy', 'depo3', 'depoa', 'deps', 'depso2', 'depso4', 'depss', 'dh', 'drybc', 'drydms', 'drydust', 'dryhno3', 'drynh3', 'dryno2', 'dryno3', 'drynoy', 'dryo3', 'dryoa', 'dryso2', 'dryso4', 'dryss', 'ec440dryaer', 'ec550aer', 'ec550dryaer', 'ec550drylt1aer', 'ec870dryaer', 'emibc', 'emico', 'emidms', 'emidust', 'emiisop', 'emin', 'eminh3', 'eminox', 'emioa', 'emis', 'emiso2', 'emiso4', 'emiss', 'emiterp', 'hus', 'loadbc', 'loaddust', 'loadno3', 'loadoa', 'loadso4', 'loadss', 'mmrbc', 'mmrdust', 'mmrmsa', 'mmrnh4', 'mmrno3', 'mmroa', 'mmrso4', 'mmrss', 'od350aer', 'od440aer', 'od550aer', 'od550aerh2o', 'od550bc', 'od550dust', 'od550lt1aer', 'od550lt1dust', 'od550lt1ss', 'od550no3', 'od550oa', 'od550so4', 'od550ss', 'od870aer', 'plev', 'pr', 'precip', 'sconcbc', 'sconcdust', 'sconcmsa', 'sconcno3', 'sconcoa', 'sconcso4', 'sconcss', 'ta', 'temp', 'vmrch4', 'vmrco', 'vmrno', 'vmrno2', 'vmro3', 'vmroh', 'wetbc', 'wetdms', 'wetdust', 'wethno3', 'wetmsa', 'wetnh3', 'wetnh4', 'wetno3', 'wetnoy', 'wetoa', 'wetso2', 'wetso4', 'wetss']\n",
      "Available years: [2010]\n",
      "Available time resolutions ['hourly', 'monthly']\n",
      "\n",
      "Loaded GriddedData objects (individual years):\n",
      "\n",
      "Pyaerocom GriddedData\n",
      "---------------------\n",
      "Variable: abs550aer\n",
      "Temporal resolution: hourly\n",
      "Start / Stop: 2010-01-15T12:00:00.000000 - 2010-12-15T12:00:00.000000\n",
      "\n",
      "Pyaerocom GriddedData\n",
      "---------------------\n",
      "Variable: od550aer\n",
      "Temporal resolution: hourly\n",
      "Start / Stop: 2010-01-01T00:00:00.000000 - 2010-12-31T23:00:00.000000\n",
      "\n",
      "Pyaerocom GriddedData\n",
      "---------------------\n",
      "Variable: od550lt1aer\n",
      "Temporal resolution: hourly\n",
      "Start / Stop: 2010-01-15T12:00:00.000000 - 2010-12-15T12:00:00.000000\n"
     ]
    }
   ],
   "source": [
    "print(read_models)"
   ]
  }
 ],
 "metadata": {
  "kernelspec": {
   "display_name": "Python 3",
   "language": "python",
   "name": "python3"
  },
  "language_info": {
   "codemirror_mode": {
    "name": "ipython",
    "version": 3
   },
   "file_extension": ".py",
   "mimetype": "text/x-python",
   "name": "python",
   "nbconvert_exporter": "python",
   "pygments_lexer": "ipython3",
   "version": "3.6.6"
  }
 },
 "nbformat": 4,
 "nbformat_minor": 2
}
