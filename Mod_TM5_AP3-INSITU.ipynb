{
 "cells": [
  {
   "cell_type": "markdown",
   "metadata": {},
   "source": [
    "### Notebook for reading and cheking model TM5_AP3-INSITU"
   ]
  },
  {
   "cell_type": "code",
   "execution_count": 1,
   "metadata": {},
   "outputs": [
    {
     "name": "stderr",
     "output_type": "stream",
     "text": [
      "2018-09-03 16:41:19,968:INFO:\n",
      "Reading aliases ini file: /home/jonasg/github/pyaerocom/pyaerocom/data/aliases.ini\n",
      "2018-09-03 16:41:20,749:WARNING:\n",
      "geopy library is not available. Aeolus data read not enabled\n"
     ]
    }
   ],
   "source": [
    "import pyaerocom as pya\n",
    "pya.change_verbosity('critical')\n",
    "\n",
    "MODEL_ID = 'TM5_AP3-INSITU'"
   ]
  },
  {
   "cell_type": "code",
   "execution_count": 2,
   "metadata": {},
   "outputs": [
    {
     "name": "stdout",
     "output_type": "stream",
     "text": [
      "\n",
      "Pyaerocom ReadGridded\n",
      "---------------------\n",
      "Model ID: TM5_AP3-INSITU\n",
      "Data directory: /lustre/storeA/project/aerocom/aerocom-users-database/AEROCOM-PHASE-III/TM5_AP3-INSITU/renamed\n",
      "Available variables: ['abs350aer', 'abs440aer', 'abs440dryaer', 'abs550aer', 'abs550dryaer', 'abs550drylt1aer', 'abs870aer', 'abs870dryaer', 'airmass', 'asyaer', 'asydryaer', 'depbc', 'depdms', 'depdust', 'dephno3', 'depmsa', 'depn', 'depnh3', 'depnh4', 'depnhx', 'depno2', 'depno3', 'depnoy', 'depo3', 'depoa', 'deps', 'depso2', 'depso4', 'depss', 'dh', 'drybc', 'drydms', 'drydust', 'dryhno3', 'drynh3', 'dryno2', 'dryno3', 'drynoy', 'dryo3', 'dryoa', 'dryso2', 'dryso4', 'dryss', 'ec440dryaer', 'ec550aer', 'ec550dryaer', 'ec550drylt1aer', 'ec870dryaer', 'emibc', 'emico', 'emidms', 'emidust', 'emiisop', 'emin', 'eminh3', 'eminox', 'emioa', 'emis', 'emiso2', 'emiso4', 'emiss', 'emiterp', 'hus', 'loadbc', 'loaddust', 'loadno3', 'loadoa', 'loadso4', 'loadss', 'mmrbc', 'mmrdust', 'mmrmsa', 'mmrnh4', 'mmrno3', 'mmroa', 'mmrso4', 'mmrss', 'od350aer', 'od440aer', 'od550aer', 'od550aerh2o', 'od550bc', 'od550dust', 'od550lt1aer', 'od550lt1dust', 'od550lt1ss', 'od550no3', 'od550oa', 'od550so4', 'od550ss', 'od870aer', 'plev', 'pr', 'precip', 'sconcbc', 'sconcdust', 'sconcmsa', 'sconcno3', 'sconcoa', 'sconcso4', 'sconcss', 'ta', 'temp', 'vmrch4', 'vmrco', 'vmrno', 'vmrno2', 'vmro3', 'vmroh', 'wetbc', 'wetdms', 'wetdust', 'wethno3', 'wetmsa', 'wetnh3', 'wetnh4', 'wetno3', 'wetnoy', 'wetoa', 'wetso2', 'wetso4', 'wetss']\n",
      "Available years: [2010]\n",
      "Available time resolutions ['hourly', 'daily', 'monthly']\n"
     ]
    }
   ],
   "source": [
    "reader = pya.io.ReadGridded(MODEL_ID)\n",
    "print(reader)"
   ]
  },
  {
   "cell_type": "markdown",
   "metadata": {},
   "source": [
    "#### Variable 'abs550dryaer'"
   ]
  },
  {
   "cell_type": "code",
   "execution_count": 3,
   "metadata": {},
   "outputs": [
    {
     "name": "stderr",
     "output_type": "stream",
     "text": [
      "/home/jonasg/anaconda3/lib/python3.6/site-packages/iris/fileformats/cf.py:1069: UserWarning: Ignoring formula terms variable 'ps' referenced by data variable 'b_bnds' via variable 'lev': Dimensions ('time', 'stationid') do not span ('lev', 'bnds')\n",
      "  warnings.warn(msg)\n",
      "/home/jonasg/anaconda3/lib/python3.6/site-packages/iris/fileformats/cf.py:1069: UserWarning: Ignoring formula terms variable 'ps' referenced by data variable 'a_bnds' via variable 'lev': Dimensions ('time', 'stationid') do not span ('lev', 'bnds')\n",
      "  warnings.warn(msg)\n",
      "/home/jonasg/anaconda3/lib/python3.6/site-packages/iris/fileformats/cf.py:192: UserWarning: WARNING: valid_min not used since it\n",
      "cannot be safely cast to variable data type\n",
      "  return self.cf_data.__getitem__(key)\n",
      "/home/jonasg/anaconda3/lib/python3.6/site-packages/iris/fileformats/cf.py:192: UserWarning: WARNING: valid_max not used since it\n",
      "cannot be safely cast to variable data type\n",
      "  return self.cf_data.__getitem__(key)\n",
      "/home/jonasg/anaconda3/lib/python3.6/site-packages/iris/fileformats/netcdf.py:585: UserWarning: Unable to find coordinate for variable 'ps'\n",
      "  '{!r}'.format(name))\n",
      "/home/jonasg/anaconda3/lib/python3.6/site-packages/iris/fileformats/cf.py:192: UserWarning: WARNING: valid_min not used since it\n",
      "cannot be safely cast to variable data type\n",
      "  return self.cf_data.__getitem__(key)\n",
      "/home/jonasg/anaconda3/lib/python3.6/site-packages/iris/fileformats/cf.py:192: UserWarning: WARNING: valid_max not used since it\n",
      "cannot be safely cast to variable data type\n",
      "  return self.cf_data.__getitem__(key)\n",
      "/home/jonasg/anaconda3/lib/python3.6/site-packages/iris/fileformats/netcdf.py:585: UserWarning: Unable to find coordinate for variable 'ps'\n",
      "  '{!r}'.format(name))\n",
      "/home/jonasg/anaconda3/lib/python3.6/site-packages/iris/fileformats/cf.py:192: UserWarning: WARNING: valid_min not used since it\n",
      "cannot be safely cast to variable data type\n",
      "  return self.cf_data.__getitem__(key)\n",
      "/home/jonasg/anaconda3/lib/python3.6/site-packages/iris/fileformats/cf.py:192: UserWarning: WARNING: valid_max not used since it\n",
      "cannot be safely cast to variable data type\n",
      "  return self.cf_data.__getitem__(key)\n"
     ]
    },
    {
     "name": "stdout",
     "output_type": "stream",
     "text": [
      "(pyaerocom.GriddedData\n",
      "Grid data: <iris 'Cube' of Surface Dry Aerosol Absorption at 550 nm / (m-1) (time: 8760; latitude: 90; longitude: 120)>,)\n"
     ]
    }
   ],
   "source": [
    "abs550aer = reader.read('abs550dryaer')\n",
    "print(abs550aer)"
   ]
  },
  {
   "cell_type": "markdown",
   "metadata": {},
   "source": [
    "#### Variable 'ec550dryaer'"
   ]
  },
  {
   "cell_type": "code",
   "execution_count": 4,
   "metadata": {},
   "outputs": [
    {
     "name": "stderr",
     "output_type": "stream",
     "text": [
      "/home/jonasg/anaconda3/lib/python3.6/site-packages/iris/fileformats/cf.py:1069: UserWarning: Ignoring formula terms variable 'ps' referenced by data variable 'b_bnds' via variable 'lev': Dimensions ('time', 'stationid') do not span ('lev', 'bnds')\n",
      "  warnings.warn(msg)\n",
      "/home/jonasg/anaconda3/lib/python3.6/site-packages/iris/fileformats/cf.py:1069: UserWarning: Ignoring formula terms variable 'ps' referenced by data variable 'a_bnds' via variable 'lev': Dimensions ('time', 'stationid') do not span ('lev', 'bnds')\n",
      "  warnings.warn(msg)\n",
      "/home/jonasg/anaconda3/lib/python3.6/site-packages/iris/fileformats/cf.py:192: UserWarning: WARNING: valid_min not used since it\n",
      "cannot be safely cast to variable data type\n",
      "  return self.cf_data.__getitem__(key)\n",
      "/home/jonasg/anaconda3/lib/python3.6/site-packages/iris/fileformats/cf.py:192: UserWarning: WARNING: valid_max not used since it\n",
      "cannot be safely cast to variable data type\n",
      "  return self.cf_data.__getitem__(key)\n",
      "/home/jonasg/anaconda3/lib/python3.6/site-packages/iris/fileformats/netcdf.py:585: UserWarning: Unable to find coordinate for variable 'ps'\n",
      "  '{!r}'.format(name))\n",
      "/home/jonasg/anaconda3/lib/python3.6/site-packages/iris/fileformats/cf.py:192: UserWarning: WARNING: valid_min not used since it\n",
      "cannot be safely cast to variable data type\n",
      "  return self.cf_data.__getitem__(key)\n",
      "/home/jonasg/anaconda3/lib/python3.6/site-packages/iris/fileformats/cf.py:192: UserWarning: WARNING: valid_max not used since it\n",
      "cannot be safely cast to variable data type\n",
      "  return self.cf_data.__getitem__(key)\n",
      "/home/jonasg/anaconda3/lib/python3.6/site-packages/iris/fileformats/netcdf.py:585: UserWarning: Unable to find coordinate for variable 'ps'\n",
      "  '{!r}'.format(name))\n",
      "/home/jonasg/anaconda3/lib/python3.6/site-packages/iris/fileformats/cf.py:192: UserWarning: WARNING: valid_min not used since it\n",
      "cannot be safely cast to variable data type\n",
      "  return self.cf_data.__getitem__(key)\n",
      "/home/jonasg/anaconda3/lib/python3.6/site-packages/iris/fileformats/cf.py:192: UserWarning: WARNING: valid_max not used since it\n",
      "cannot be safely cast to variable data type\n",
      "  return self.cf_data.__getitem__(key)\n"
     ]
    },
    {
     "name": "stdout",
     "output_type": "stream",
     "text": [
      "(pyaerocom.GriddedData\n",
      "Grid data: <iris 'Cube' of Surface Dry Aerosol Extinction at 550 nm / (m-1) (time: 8760; latitude: 90; longitude: 120)>,)\n"
     ]
    }
   ],
   "source": [
    "ec550dryaer = reader.read('ec550dryaer')\n",
    "print(ec550dryaer)"
   ]
  }
 ],
 "metadata": {
  "kernelspec": {
   "display_name": "Python 3",
   "language": "python",
   "name": "python3"
  },
  "language_info": {
   "codemirror_mode": {
    "name": "ipython",
    "version": 3
   },
   "file_extension": ".py",
   "mimetype": "text/x-python",
   "name": "python",
   "nbconvert_exporter": "python",
   "pygments_lexer": "ipython3",
   "version": "3.6.6"
  }
 },
 "nbformat": 4,
 "nbformat_minor": 2
}
