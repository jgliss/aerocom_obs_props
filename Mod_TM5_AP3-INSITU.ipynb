{
 "cells": [
  {
   "cell_type": "markdown",
   "metadata": {},
   "source": [
    "### Notebook for reading and cheking model TM5_AP3-INSITU"
   ]
  },
  {
   "cell_type": "code",
   "execution_count": 1,
   "metadata": {},
   "outputs": [
    {
     "name": "stderr",
     "output_type": "stream",
     "text": [
      "2018-08-29 09:14:28,782:INFO:\n",
      "Reading aliases ini file: /home/jonasg/github/pyaerocom/pyaerocom/data/aliases.ini\n",
      "2018-08-29 09:14:29,869:WARNING:\n",
      "geopy library is not available. Aeolus data read not enabled\n"
     ]
    }
   ],
   "source": [
    "import pyaerocom as pya\n",
    "pya.change_verbosity('critical')\n",
    "\n",
    "MODEL_ID = 'TM5_AP3-INSITU'"
   ]
  },
  {
   "cell_type": "code",
   "execution_count": 2,
   "metadata": {},
   "outputs": [
    {
     "name": "stdout",
     "output_type": "stream",
     "text": [
      "\n",
      "Pyaerocom ReadGridded\n",
      "---------------------\n",
      "Model ID: TM5_AP3-INSITU\n",
      "Data directory: /lustre/storeA/project/aerocom/aerocom-users-database/AEROCOM-PHASE-III/TM5_AP3-INSITU/renamed\n",
      "Available variables: ['abs350aer', 'abs440aer', 'abs440dryaer', 'abs550aer', 'abs550dryaer', 'abs550drylt1aer', 'abs870aer', 'abs870dryaer', 'airmass', 'asyaer', 'asydryaer', 'depbc', 'depdms', 'depdust', 'dephno3', 'depmsa', 'depn', 'depnh3', 'depnh4', 'depnhx', 'depno2', 'depno3', 'depnoy', 'depo3', 'depoa', 'deps', 'depso2', 'depso4', 'depss', 'dh', 'drybc', 'drydms', 'drydust', 'dryhno3', 'drynh3', 'dryno2', 'dryno3', 'drynoy', 'dryo3', 'dryoa', 'dryso2', 'dryso4', 'dryss', 'ec440dryaer', 'ec550aer', 'ec550dryaer', 'ec550drylt1aer', 'ec870dryaer', 'emibc', 'emico', 'emidms', 'emidust', 'emiisop', 'emin', 'eminh3', 'eminox', 'emioa', 'emis', 'emiso2', 'emiso4', 'emiss', 'emiterp', 'hus', 'loadbc', 'loaddust', 'loadno3', 'loadoa', 'loadso4', 'loadss', 'mmrbc', 'mmrdust', 'mmrmsa', 'mmrnh4', 'mmrno3', 'mmroa', 'mmrso4', 'mmrss', 'od350aer', 'od440aer', 'od550aer', 'od550aerh2o', 'od550bc', 'od550dust', 'od550lt1aer', 'od550lt1dust', 'od550lt1ss', 'od550no3', 'od550oa', 'od550so4', 'od550ss', 'od870aer', 'plev', 'pr', 'precip', 'sconcbc', 'sconcdust', 'sconcmsa', 'sconcno3', 'sconcoa', 'sconcso4', 'sconcss', 'ta', 'temp', 'vmrch4', 'vmrco', 'vmrno', 'vmrno2', 'vmro3', 'vmroh', 'wetbc', 'wetdms', 'wetdust', 'wethno3', 'wetmsa', 'wetnh3', 'wetnh4', 'wetno3', 'wetnoy', 'wetoa', 'wetso2', 'wetso4', 'wetss']\n",
      "Available years: [2010]\n",
      "Available time resolutions ['hourly', 'monthly']\n"
     ]
    }
   ],
   "source": [
    "reader = pya.io.ReadGridded(MODEL_ID)\n",
    "print(reader)"
   ]
  },
  {
   "cell_type": "markdown",
   "metadata": {},
   "source": [
    "#### Variable 'abs550dryaer'"
   ]
  },
  {
   "cell_type": "code",
   "execution_count": 10,
   "metadata": {},
   "outputs": [
    {
     "name": "stdout",
     "output_type": "stream",
     "text": [
      "(pyaerocom.GriddedData\n",
      "Grid data: <iris 'Cube' of abs550dryaer / (m-1) (time: 365; latitude: 64; longitude: 128)>,)\n"
     ]
    }
   ],
   "source": [
    "abs550aer = reader.read('abs550dryaer')\n",
    "print(abs550aer)"
   ]
  },
  {
   "cell_type": "markdown",
   "metadata": {},
   "source": [
    "#### Variable 'ec550dryaer'"
   ]
  },
  {
   "cell_type": "code",
   "execution_count": 12,
   "metadata": {},
   "outputs": [
    {
     "name": "stdout",
     "output_type": "stream",
     "text": [
      "(pyaerocom.GriddedData\n",
      "Grid data: <iris 'Cube' of ec550dryaer / (m-1) (time: 365; latitude: 64; longitude: 128)>,)\n"
     ]
    }
   ],
   "source": [
    "ec550dryaer = reader.read('ec550dryaer')\n",
    "print(ec550dryaer)"
   ]
  },
  {
   "cell_type": "code",
   "execution_count": 13,
   "metadata": {},
   "outputs": [
    {
     "data": {
      "text/plain": [
       "['/lustre/storeA/project/aerocom/aerocom-users-database/AEROCOM-PHASE-III/OsloCTM2_INSITU/renamed/aerocom3_OsloCTM2_INSITU_pres_Surface_2008_daily.nc',\n",
       " '/lustre/storeA/project/aerocom/aerocom-users-database/AEROCOM-PHASE-III/OsloCTM2_INSITU/renamed/aerocom3_OsloCTM2_INSITU_sconcno3_Surface_2008_daily.nc',\n",
       " '/lustre/storeA/project/aerocom/aerocom-users-database/AEROCOM-PHASE-III/OsloCTM2_INSITU/renamed/aerocom3_OsloCTM2_INSITU_ec870dryaer_Surface_2008_daily.nc',\n",
       " '/lustre/storeA/project/aerocom/aerocom-users-database/AEROCOM-PHASE-III/OsloCTM2_INSITU/renamed/aerocom3_OsloCTM2_INSITU_asydryaer_Surface_2008_daily.nc',\n",
       " '/lustre/storeA/project/aerocom/aerocom-users-database/AEROCOM-PHASE-III/OsloCTM2_INSITU/renamed/aerocom3_OsloCTM2_INSITU_ec550dryaer_Surface_2008_daily.nc',\n",
       " '/lustre/storeA/project/aerocom/aerocom-users-database/AEROCOM-PHASE-III/OsloCTM2_INSITU/renamed/aerocom3_OsloCTM2_INSITU_ec440dryaer_Surface_2008_daily.nc',\n",
       " '/lustre/storeA/project/aerocom/aerocom-users-database/AEROCOM-PHASE-III/OsloCTM2_INSITU/renamed/aerocom3_OsloCTM2_INSITU_sconcso4_Surface_2008_daily.nc',\n",
       " '/lustre/storeA/project/aerocom/aerocom-users-database/AEROCOM-PHASE-III/OsloCTM2_INSITU/renamed/aerocom3_OsloCTM2_INSITU_od550aer_Column_2008_daily.nc',\n",
       " '/lustre/storeA/project/aerocom/aerocom-users-database/AEROCOM-PHASE-III/OsloCTM2_INSITU/renamed/aerocom3_OsloCTM2_INSITU_sconcbc_Surface_2008_daily.nc',\n",
       " '/lustre/storeA/project/aerocom/aerocom-users-database/AEROCOM-PHASE-III/OsloCTM2_INSITU/renamed/aerocom3_OsloCTM2_INSITU_sconcoa_Surface_2008_daily.nc',\n",
       " '/lustre/storeA/project/aerocom/aerocom-users-database/AEROCOM-PHASE-III/OsloCTM2_INSITU/renamed/aerocom3_OsloCTM2_INSITU_abs440dryaer_Surface_2008_daily.nc',\n",
       " '/lustre/storeA/project/aerocom/aerocom-users-database/AEROCOM-PHASE-III/OsloCTM2_INSITU/renamed/aerocom3_OsloCTM2_INSITU_sconcss_Surface_2008_daily.nc',\n",
       " '/lustre/storeA/project/aerocom/aerocom-users-database/AEROCOM-PHASE-III/OsloCTM2_INSITU/renamed/aerocom3_OsloCTM2_INSITU_sconcdust_Surface_2008_daily.nc',\n",
       " '/lustre/storeA/project/aerocom/aerocom-users-database/AEROCOM-PHASE-III/OsloCTM2_INSITU/renamed/aerocom3_OsloCTM2_INSITU_abs870dryaer_Surface_2008_daily.nc',\n",
       " '/lustre/storeA/project/aerocom/aerocom-users-database/AEROCOM-PHASE-III/OsloCTM2_INSITU/renamed/aerocom3_OsloCTM2_INSITU_abs550dryaer_Surface_2008_daily.nc']"
      ]
     },
     "execution_count": 13,
     "metadata": {},
     "output_type": "execute_result"
    }
   ],
   "source": [
    "reader.files"
   ]
  },
  {
   "cell_type": "code",
   "execution_count": 15,
   "metadata": {},
   "outputs": [
    {
     "name": "stdout",
     "output_type": "stream",
     "text": [
      "ec440dryaer / (m-1)                 (time: 365; latitude: 64; longitude: 128)\n",
      "     Dimension coordinates:\n",
      "          time                           x              -              -\n",
      "          latitude                       -              x              -\n",
      "          longitude                      -              -              x\n",
      "     Attributes:\n",
      "          Modelinfo1: OsloCTM2 is a 3D Chemical Transport Model\n",
      "          Modelinfo2: It is driven by ECMWF meteorological data\n",
      "          contactinfo: gunnar.myhre@cicero.oslo.no\n",
      "          creation_date: Thu Sep  3 12:54:10 2015\n",
      "          institution: CICERO\n",
      "          references: Myhre et al. 2009 (ACP, 9, 1365-1392) &      Skeie et al. 2011 (ACP, 11,...\n",
      "          title: AEROCOM phase III output from OsloCTM2\n"
     ]
    }
   ],
   "source": [
    "import iris\n",
    "c = iris.load_cube('/lustre/storeA/project/aerocom/aerocom-users-database/AEROCOM-PHASE-III/OsloCTM2_INSITU/renamed/aerocom3_OsloCTM2_INSITU_ec440dryaer_Surface_2008_daily.nc')\n",
    "print(c)"
   ]
  }
 ],
 "metadata": {
  "kernelspec": {
   "display_name": "Python 3",
   "language": "python",
   "name": "python3"
  },
  "language_info": {
   "codemirror_mode": {
    "name": "ipython",
    "version": 3
   },
   "file_extension": ".py",
   "mimetype": "text/x-python",
   "name": "python",
   "nbconvert_exporter": "python",
   "pygments_lexer": "ipython3",
   "version": "3.6.6"
  }
 },
 "nbformat": 4,
 "nbformat_minor": 2
}
