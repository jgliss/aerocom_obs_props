{
 "cells": [
  {
   "cell_type": "markdown",
   "metadata": {},
   "source": [
    "## Comparison of calculated vs. provided Angstrom coeffs (440-870) Aeronet V3"
   ]
  },
  {
   "cell_type": "code",
   "execution_count": 1,
   "metadata": {},
   "outputs": [
    {
     "name": "stderr",
     "output_type": "stream",
     "text": [
      "2018-08-29 14:24:05,164:INFO:\n",
      "Reading aliases ini file: /home/jonasg/github/pyaerocom/pyaerocom/data/aliases.ini\n",
      "2018-08-29 14:24:06,173:WARNING:\n",
      "geopy library is not available. Aeolus data read not enabled\n"
     ]
    }
   ],
   "source": [
    "import pyaerocom as pya\n",
    "pya.change_verbosity('critical')\n",
    "\n",
    "VARS = ['ang4487aer', 'ang4487aer_calc', 'od550aer']\n",
    "FILTER_NAME = 'WORLD-noMOUNTAINS'\n",
    "TS_TYPE = 'monthly'\n",
    "YEAR = 2010\n",
    "\n",
    "start_str = str(YEAR) \n",
    "stop_str = '{}-12-31 23:59:00'.format(YEAR) "
   ]
  },
  {
   "cell_type": "markdown",
   "metadata": {},
   "source": [
    "### Aeronet V3 Level 2 and Level 1.5\n",
    "\n",
    "Import data into 2 instance of ``UngriddedData`` class of pyaerocom."
   ]
  },
  {
   "cell_type": "code",
   "execution_count": 2,
   "metadata": {},
   "outputs": [],
   "source": [
    "reader = pya.io.ReadUngridded()\n",
    "reader.logger.setLevel('CRITICAL')\n",
    "\n",
    "data_l2 = reader.read_dataset(pya.const.AERONET_SUN_V3L2_AOD_DAILY_NAME,\n",
    "                             vars_to_retrieve=VARS)\n",
    "data_l15 = reader.read_dataset(pya.const.AERONET_SUN_V3L15_AOD_DAILY_NAME,\n",
    "                             vars_to_retrieve=VARS)"
   ]
  },
  {
   "cell_type": "code",
   "execution_count": 3,
   "metadata": {},
   "outputs": [
    {
     "name": "stdout",
     "output_type": "stream",
     "text": [
      "\n",
      "Pyaerocom UngriddedData\n",
      "-----------------------\n",
      "Contains networks: ['AeronetSunV3Lev2.daily']\n",
      "Contains variables: ['ang4487aer', 'ang4487aer_calc', 'od550aer']\n",
      "Contains instruments: []\n",
      "Total no. of stations: 1165\n",
      "\n",
      "Pyaerocom UngriddedData\n",
      "-----------------------\n",
      "Contains networks: ['AeronetSunV3Lev1.5.daily']\n",
      "Contains variables: ['ang4487aer', 'ang4487aer_calc', 'od550aer']\n",
      "Contains instruments: []\n",
      "Total no. of stations: 1278\n"
     ]
    }
   ],
   "source": [
    "print(data_l2)\n",
    "print(data_l15)"
   ]
  },
  {
   "cell_type": "markdown",
   "metadata": {},
   "source": [
    "Apply altitude filter (i.e. extract all stations that are below 1000 m altitude)."
   ]
  },
  {
   "cell_type": "code",
   "execution_count": null,
   "metadata": {},
   "outputs": [],
   "source": [
    "regfilter = pya.Filter(FILTER_NAME)\n",
    "data_l2 = regfilter(data_l2)\n",
    "data_l15 = regfilter(data_l15)"
   ]
  },
  {
   "cell_type": "code",
   "execution_count": null,
   "metadata": {},
   "outputs": [],
   "source": [
    "print(data_l2)\n",
    "print(data_l15)"
   ]
  },
  {
   "cell_type": "markdown",
   "metadata": {},
   "source": [
    "Convert all stations to instances of ``StationData`` class (containing time series for all stations). "
   ]
  },
  {
   "cell_type": "code",
   "execution_count": null,
   "metadata": {},
   "outputs": [],
   "source": [
    "stat_data_l2 = data_l2.to_station_data_all(vars_to_convert=VARS, \n",
    "                                           start=start_str,\n",
    "                                           stop=stop_str,\n",
    "                                           freq=TS_TYPE)"
   ]
  },
  {
   "cell_type": "code",
   "execution_count": null,
   "metadata": {},
   "outputs": [],
   "source": [
    "stat_data_l15 = data_l15.to_station_data_all(vars_to_convert=VARS, \n",
    "                                             start=start_str,\n",
    "                                             stop=stop_str,\n",
    "                                             freq=TS_TYPE)"
   ]
  },
  {
   "cell_type": "markdown",
   "metadata": {},
   "source": [
    "Iterate over all ``StationData`` objects in the two lists and extract data for ``ang4487aer`` (calculated and from files)."
   ]
  },
  {
   "cell_type": "code",
   "execution_count": null,
   "metadata": {},
   "outputs": [],
   "source": [
    "stat_ok_l2 = 0\n",
    "ang4487aer_file_l2 = []\n",
    "ang4487aer_calc_l2 = []\n",
    "for stat in stat_data_l2:\n",
    "    if stat is not None:\n",
    "        ang4487aer_file_l2.extend(stat.ang4487aer)\n",
    "        ang4487aer_calc_l2.extend(stat.ang4487aer_calc)\n",
    "        stat_ok_l2 += 1\n",
    "\n",
    "stat_ok_l15 = 0\n",
    "ang4487aer_file_l15 = []\n",
    "ang4487aer_calc_l15 = []\n",
    "for stat in stat_data_l15:\n",
    "    if stat is not None:\n",
    "        ang4487aer_file_l15.extend(stat.ang4487aer)\n",
    "        ang4487aer_calc_l15.extend(stat.ang4487aer_calc)\n",
    "        stat_ok_l15 += 1"
   ]
  },
  {
   "cell_type": "markdown",
   "metadata": {},
   "source": [
    "Calculate statistics for scatter plot"
   ]
  },
  {
   "cell_type": "code",
   "execution_count": null,
   "metadata": {},
   "outputs": [],
   "source": [
    "stats_l2 = pya.mathutils.calc_statistics(ang4487aer_calc_l2, ang4487aer_file_l2, lowlim=0)\n",
    "stats_l15 = pya.mathutils.calc_statistics(ang4487aer_calc_l15, ang4487aer_file_l15, lowlim=0)\n",
    "print(stats_l2)\n",
    "print(stats_l15)"
   ]
  },
  {
   "cell_type": "code",
   "execution_count": null,
   "metadata": {},
   "outputs": [],
   "source": [
    "ax = pya.plot.plotscatter_new.plot_scatter(model_vals=ang4487aer_calc_l2,\n",
    "                                          obs_vals=ang4487aer_file_l2,\n",
    "                                          model_id='AE 440-870 nm (calculated)', \n",
    "                                          obs_id='AE 440-870 nm (from files)',\n",
    "                                          var_name='ang4487aer',\n",
    "                                          start=start_str, \n",
    "                                          stop=stop_str, \n",
    "                                          ts_type=TS_TYPE, \n",
    "                                          stations_ok=stat_ok_l2,\n",
    "                                          filter_name=FILTER_NAME,\n",
    "                                          lowlim_stats = 0)\n",
    "ax.set_title('AERONET V3 L2 (2010)')"
   ]
  },
  {
   "cell_type": "code",
   "execution_count": null,
   "metadata": {},
   "outputs": [],
   "source": [
    "ax = pya.plot.plotscatter_new.plot_scatter(model_vals=ang4487aer_calc_l15,\n",
    "                                           obs_vals=ang4487aer_file_l15,\n",
    "                                           model_id='AE 440-870 nm (calculated)', \n",
    "                                           obs_id='AE 440-870 nm (from files)',\n",
    "                                           var_name='ang4487aer',\n",
    "                                           start=start_str, \n",
    "                                           stop=stop_str, \n",
    "                                           ts_type=TS_TYPE, \n",
    "                                           stations_ok=stat_ok_l15,\n",
    "                                           filter_name=FILTER_NAME,\n",
    "                                           lowlim_stats = 0)\n",
    "ax.set_title('AERONET V3 L1.5 (2010)')"
   ]
  }
 ],
 "metadata": {
  "kernelspec": {
   "display_name": "Python 3",
   "language": "python",
   "name": "python3"
  },
  "language_info": {
   "codemirror_mode": {
    "name": "ipython",
    "version": 3
   },
   "file_extension": ".py",
   "mimetype": "text/x-python",
   "name": "python",
   "nbconvert_exporter": "python",
   "pygments_lexer": "ipython3",
   "version": "3.6.6"
  }
 },
 "nbformat": 4,
 "nbformat_minor": 2
}
