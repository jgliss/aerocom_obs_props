{
 "cells": [
  {
   "cell_type": "markdown",
   "metadata": {},
   "source": [
    "### Notebook for reading and cheking model TM5_AP3-INSITU"
   ]
  },
  {
   "cell_type": "code",
   "execution_count": 1,
   "metadata": {},
   "outputs": [
    {
     "name": "stderr",
     "output_type": "stream",
     "text": [
      "2018-09-03 16:41:16,115:INFO:\n",
      "Reading aliases ini file: /home/jonasg/github/pyaerocom/pyaerocom/data/aliases.ini\n",
      "2018-09-03 16:41:16,959:WARNING:\n",
      "geopy library is not available. Aeolus data read not enabled\n"
     ]
    }
   ],
   "source": [
    "import pyaerocom as pya\n",
    "pya.change_verbosity('critical')\n",
    "\n",
    "OBS_ID = 'CALIOP3'\n",
    "\n",
    "VARS = ['ec5323Daer', 'ec5323Ddust', 'ec532cs3Daer']\n",
    "\n",
    "YEAR = 2006"
   ]
  },
  {
   "cell_type": "code",
   "execution_count": 2,
   "metadata": {},
   "outputs": [
    {
     "name": "stdout",
     "output_type": "stream",
     "text": [
      "\n",
      "Pyaerocom ReadGridded\n",
      "---------------------\n",
      "Model ID: CALIOP3\n",
      "Data directory: /lustre/storeA/project/aerocom/aerocom-users-database/SATELLITE-DATA/CALIOP3/renamed\n",
      "Available variables: ['ang44873Daer', 'ang44873Ddust', 'ang4487aer', 'ang4487cs3Daer', 'ang4487cs3Ddust', 'ang4487csaer', 'anglt300_aer', 'ec10643Daer', 'ec10643Ddust', 'ec1064cs3Daer', 'ec1064cs3Ddust', 'ec5323Daer', 'ec5323Dcl', 'ec5323Ddust', 'ec532cs3Daer', 'ec532cs3Ddust', 'lr5323Daer', 'lr5323Ddust', 'lr532cs3Daer', 'lr532cs3Ddust', 'od1064aer', 'od1064csaer', 'od1064lt300_aer', 'od532lt300_aer', 'od550aer', 'od550csaer', 'z3d']\n",
      "Available years: [2006, 2007, 2008, 2009, 2010, 2011, 9999]\n",
      "Available time resolutions ['monthly']\n"
     ]
    }
   ],
   "source": [
    "reader = pya.io.ReadGridded(OBS_ID)\n",
    "print(reader)"
   ]
  },
  {
   "cell_type": "code",
   "execution_count": 3,
   "metadata": {},
   "outputs": [
    {
     "name": "stderr",
     "output_type": "stream",
     "text": [
      "/home/jonasg/anaconda3/lib/python3.6/site-packages/iris/fileformats/_pyke_rules/compiled_krb/fc_rules_cf_fc.py:1808: UserWarning: Ignoring netCDF variable 'y' invalid units 'degree at grid cell center'\n",
      "  warnings.warn(msg)\n",
      "/home/jonasg/anaconda3/lib/python3.6/site-packages/iris/fileformats/_pyke_rules/compiled_krb/fc_rules_cf_fc.py:1808: UserWarning: Ignoring netCDF variable 'x' invalid units 'degree at grid cell center'\n",
      "  warnings.warn(msg)\n",
      "/home/jonasg/anaconda3/lib/python3.6/site-packages/iris/fileformats/_pyke_rules/compiled_krb/fc_rules_cf_fc.py:1808: UserWarning: Ignoring netCDF variable 'y' invalid units 'degree at grid cell center'\n",
      "  warnings.warn(msg)\n",
      "/home/jonasg/anaconda3/lib/python3.6/site-packages/iris/fileformats/_pyke_rules/compiled_krb/fc_rules_cf_fc.py:1808: UserWarning: Ignoring netCDF variable 'x' invalid units 'degree at grid cell center'\n",
      "  warnings.warn(msg)\n",
      "/home/jonasg/anaconda3/lib/python3.6/site-packages/iris/fileformats/_pyke_rules/compiled_krb/fc_rules_cf_fc.py:1808: UserWarning: Ignoring netCDF variable 'y' invalid units 'degree at grid cell center'\n",
      "  warnings.warn(msg)\n",
      "/home/jonasg/anaconda3/lib/python3.6/site-packages/iris/fileformats/_pyke_rules/compiled_krb/fc_rules_cf_fc.py:1808: UserWarning: Ignoring netCDF variable 'x' invalid units 'degree at grid cell center'\n",
      "  warnings.warn(msg)\n",
      "/home/jonasg/anaconda3/lib/python3.6/site-packages/iris/fileformats/_pyke_rules/compiled_krb/fc_rules_cf_fc.py:1808: UserWarning: Ignoring netCDF variable 'y' invalid units 'degree at grid cell center'\n",
      "  warnings.warn(msg)\n",
      "/home/jonasg/anaconda3/lib/python3.6/site-packages/iris/fileformats/_pyke_rules/compiled_krb/fc_rules_cf_fc.py:1808: UserWarning: Ignoring netCDF variable 'x' invalid units 'degree at grid cell center'\n",
      "  warnings.warn(msg)\n",
      "/home/jonasg/anaconda3/lib/python3.6/site-packages/iris/fileformats/_pyke_rules/compiled_krb/fc_rules_cf_fc.py:1808: UserWarning: Ignoring netCDF variable 'y' invalid units 'degree at grid cell center'\n",
      "  warnings.warn(msg)\n",
      "/home/jonasg/anaconda3/lib/python3.6/site-packages/iris/fileformats/_pyke_rules/compiled_krb/fc_rules_cf_fc.py:1808: UserWarning: Ignoring netCDF variable 'x' invalid units 'degree at grid cell center'\n",
      "  warnings.warn(msg)\n",
      "/home/jonasg/anaconda3/lib/python3.6/site-packages/iris/fileformats/_pyke_rules/compiled_krb/fc_rules_cf_fc.py:1808: UserWarning: Ignoring netCDF variable 'y' invalid units 'degree at grid cell center'\n",
      "  warnings.warn(msg)\n",
      "/home/jonasg/anaconda3/lib/python3.6/site-packages/iris/fileformats/_pyke_rules/compiled_krb/fc_rules_cf_fc.py:1808: UserWarning: Ignoring netCDF variable 'x' invalid units 'degree at grid cell center'\n",
      "  warnings.warn(msg)\n"
     ]
    },
    {
     "data": {
      "text/plain": [
       "pyaerocom.GriddedData\n",
       "Grid data: <iris 'Cube' of Aerosol Extinction Coefficient at 532 nm: allsky / (km-1) (time: 72; z: 100; latitude: 180; longitude: 360)>"
      ]
     },
     "execution_count": 3,
     "metadata": {},
     "output_type": "execute_result"
    }
   ],
   "source": [
    "reader.read_var(VARS[0])"
   ]
  },
  {
   "cell_type": "code",
   "execution_count": 4,
   "metadata": {},
   "outputs": [
    {
     "name": "stdout",
     "output_type": "stream",
     "text": [
      "Dust Extinction Coefficient at 532 nm:  allsky / (km-1) (-- : 12; z: 100; latitude: 180; longitude: 360)\n",
      "     Dimension coordinates:\n",
      "          z                          -                      x      -              -\n",
      "          latitude                   -                      -      x              -\n",
      "          longitude                  -                      -      -              x\n",
      "     Attributes:\n",
      "          NCO: 20120323\n",
      "          cad_and_lr_screenings_and_cloud_masking: Night-time\n",
      "          history: Fri Mar 23 14:50:23 2012: ncks -4 -L 5 -F -O -v ec5323Ddust all.nc aerocom.CALIOP3.monthly.ec5323Ddust.2006.nc\n",
      "Fri...\n",
      "          nco_openmp_thread_number: 1\n",
      "          production: CALIOP Level 2 Version 3.01 - 5 km Aerosol Layer Product\n"
     ]
    },
    {
     "name": "stderr",
     "output_type": "stream",
     "text": [
      "/home/jonasg/anaconda3/lib/python3.6/site-packages/iris/fileformats/_pyke_rules/compiled_krb/fc_rules_cf_fc.py:1808: UserWarning: Ignoring netCDF variable 'y' invalid units 'degree at grid cell center'\n",
      "  warnings.warn(msg)\n",
      "/home/jonasg/anaconda3/lib/python3.6/site-packages/iris/fileformats/_pyke_rules/compiled_krb/fc_rules_cf_fc.py:1808: UserWarning: Ignoring netCDF variable 'x' invalid units 'degree at grid cell center'\n",
      "  warnings.warn(msg)\n"
     ]
    }
   ],
   "source": [
    "import iris\n",
    "\n",
    "file = reader.data_dir + '/aerocom.CALIOP3.monthly.ec5323Ddust.2006.nc'\n",
    "cube = iris.load(file)[0]\n",
    "print(cube)"
   ]
  },
  {
   "cell_type": "markdown",
   "metadata": {},
   "source": [
    "Cube contains only 3 dimension coordinate (time is not defined):"
   ]
  },
  {
   "cell_type": "code",
   "execution_count": 5,
   "metadata": {},
   "outputs": [
    {
     "name": "stdout",
     "output_type": "stream",
     "text": [
      "Dimensions of data: 4\n",
      "No. of dimension coordinates: 3\n"
     ]
    }
   ],
   "source": [
    "print('Dimensions of data: {}\\nNo. of dimension coordinates: {}'.format(cube.ndim, len(cube.coords())))"
   ]
  },
  {
   "cell_type": "markdown",
   "metadata": {},
   "source": [
    "Also, the names of the coordinates are not defined. Each dimension coordinate has 3 name attributes, `var_name`, \n",
    "`standard_name`, `long_name`, of which the most important one is `standard_name`. These are not properly defined for these data:"
   ]
  },
  {
   "cell_type": "code",
   "execution_count": 6,
   "metadata": {},
   "outputs": [
    {
     "name": "stdout",
     "output_type": "stream",
     "text": [
      "Coord no. 0\n",
      "var_name: z\n",
      "standard_name: None\n",
      "long_name: None\n",
      "unit: km\n",
      "\n",
      "Coord no. 1\n",
      "var_name: y\n",
      "standard_name: None\n",
      "long_name: latitude\n",
      "unit: unknown\n",
      "\n",
      "Coord no. 2\n",
      "var_name: x\n",
      "standard_name: None\n",
      "long_name: longitude\n",
      "unit: unknown\n",
      "\n"
     ]
    }
   ],
   "source": [
    "for i, coord in enumerate(cube.coords()):\n",
    "    print('Coord no. {}\\nvar_name: {}\\nstandard_name: {}\\nlong_name: {}\\nunit: {}\\n'.format(i, \n",
    "                                                                                coord.var_name, \n",
    "                                                                                coord.standard_name, \n",
    "                                                                                coord.long_name,\n",
    "                                                                                coord.units))"
   ]
  },
  {
   "cell_type": "code",
   "execution_count": 7,
   "metadata": {},
   "outputs": [
    {
     "data": {
      "text/plain": [
       "<xarray.Dataset>\n",
       "Dimensions:      (time: 12, x: 360, y: 180, z: 100)\n",
       "Coordinates:\n",
       "  * x            (x) float32 -179.5 -178.5 -177.5 -176.5 -175.5 -174.5 ...\n",
       "  * y            (y) float32 -89.5 -88.5 -87.5 -86.5 -85.5 -84.5 -83.5 -82.5 ...\n",
       "  * z            (z) float32 0.0 0.1 0.2 0.3 0.4 0.5 0.6 0.7 0.8 0.9 1.0 1.1 ...\n",
       "Dimensions without coordinates: time\n",
       "Data variables:\n",
       "    ec5323Ddust  (time, z, y, x) float32 ...\n",
       "Attributes:\n",
       "    production:                               CALIOP Level 2 Version 3.01 - 5...\n",
       "    cad_and_lr_screenings_and_cloud_masking:  Night-time\n",
       "    history:                                  Fri Mar 23 14:50:23 2012: ncks ...\n",
       "    NCO:                                      20120323\n",
       "    nco_openmp_thread_number:                 1"
      ]
     },
     "execution_count": 7,
     "metadata": {},
     "output_type": "execute_result"
    }
   ],
   "source": [
    "import xarray\n",
    "ds = xarray.open_dataset(file)\n",
    "ds"
   ]
  },
  {
   "cell_type": "code",
   "execution_count": 8,
   "metadata": {},
   "outputs": [
    {
     "ename": "AttributeError",
     "evalue": "'ReadGridded' object has no attribute '_load_cube'",
     "output_type": "error",
     "traceback": [
      "\u001b[0;31m---------------------------------------------------------------------------\u001b[0m",
      "\u001b[0;31mAttributeError\u001b[0m                            Traceback (most recent call last)",
      "\u001b[0;32m<ipython-input-8-d5350abbeef7>\u001b[0m in \u001b[0;36m<module>\u001b[0;34m()\u001b[0m\n\u001b[0;32m----> 1\u001b[0;31m \u001b[0mreader\u001b[0m\u001b[0;34m.\u001b[0m\u001b[0m_load_cube\u001b[0m\u001b[0;34m(\u001b[0m\u001b[0;34m'ec5323Ddust'\u001b[0m\u001b[0;34m,\u001b[0m \u001b[0mfile\u001b[0m\u001b[0;34m)\u001b[0m\u001b[0;34m\u001b[0m\u001b[0m\n\u001b[0m",
      "\u001b[0;31mAttributeError\u001b[0m: 'ReadGridded' object has no attribute '_load_cube'"
     ]
    }
   ],
   "source": [
    "reader._load_cube('ec5323Ddust', file)\n"
   ]
  }
 ],
 "metadata": {
  "kernelspec": {
   "display_name": "Python 3",
   "language": "python",
   "name": "python3"
  },
  "language_info": {
   "codemirror_mode": {
    "name": "ipython",
    "version": 3
   },
   "file_extension": ".py",
   "mimetype": "text/x-python",
   "name": "python",
   "nbconvert_exporter": "python",
   "pygments_lexer": "ipython3",
   "version": "3.6.6"
  }
 },
 "nbformat": 4,
 "nbformat_minor": 2
}
